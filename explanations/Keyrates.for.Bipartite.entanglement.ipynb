{
 "cells": [
  {
   "cell_type": "markdown",
   "id": "8261dcbb",
   "metadata": {},
   "source": [
    "The protocol for anonymous transmission with bipartite links is as follows.\n"
   ]
  },
  {
   "cell_type": "markdown",
   "id": "93001aaf",
   "metadata": {},
   "source": [
    "1. For all $i$ and $j$: Client $i$ prepares a secret key bit $k_{i}^{j}$ with client $j$ (skipping where $j = i$). Note that every pair $(i,j)$ shares two key bits: $k_{i}^{j}$ and $k_{j}^{i}$, which will be used for communication from $i$ to $j$, and from $j$ to $i$, respectively.\n",
    "2. For all $i$: Client $i$ prepares $n$ random bits $\\{r_{i}^{j}\\}_{1 \\leq j \\leq n}$.\n",
    "3. For all $i$: Client $i$ sets $r_{i}^{n} \\rightarrow \\bigoplus_{j = 1}^{n} r_{i}^{j}$, so that all bits together have even parity.\n",
    "4. Alice sets $r_{a}^{n} \\rightarrow r_{a}^{n} \\oplus m$, so that the parity of all her bits is the bit message $m$.\n",
    "5. For all $i$ and $j$: Client $i$ sends $r_{i}^{j} \\oplus k_{i}^{j}$ to client $j$ through a public channel. They keep $r_{i}^{i}$ for themselves.\n",
    "6. For all $i$ and $j$: Client $i$ receives $r_{j}^{i} \\oplus k_{j}^{i}$ and decodes these towards $r_{j}^{i}$.\n",
    "7. For all $i$: Client $i$ computes $z_{i} = \\bigoplus_{j} r_{j}^{i}$ and announces this over the network.\n",
    "8. For all $i$: Client $i$ computes $\\bigoplus_{i} z_{i} = \\bigoplus_{i}  \\left(\\bigoplus_{j} r_{j}^{i}\\right) = \\bigoplus_{j} \\left(\\bigoplus_{i} r_{i}^{j}\\right) = 0 + 0 + \\dots + m + 0 + \\dots + 0 = m$"
   ]
  },
  {
   "cell_type": "markdown",
   "id": "b082a425",
   "metadata": {},
   "source": [
    "The quantum part of this protocol is to establish the secret key bits $k_{i}^{j}$. Every client needs a secret key bit with every other client (counting doubles!), so there are in total $n*(n-1)$ key bits needed. That means that there are an equal number of Bell pairs necessary (in the noiseless case).\n",
    "The message that will be distributed will be longer, so that means that more key bits are necessary. Let the length of the message $m$ be $m$. In a real world scenario, the clients will establish enough bits between each other by repeating QKD enough. For a message of length $m$, every pair of clients needs to share $2m$ bits."
   ]
  },
  {
   "cell_type": "markdown",
   "id": "95e5f48e",
   "metadata": {},
   "source": [
    "To establish the necessary key bits, every pair of clients will run QKD. The key rate of each client will determine the final announcement bit rate.\n",
    "\n",
    "We make the assumption that the entire network is symmetrical: the clients have the same noise profiles, and their links to the server are all equally 'bad'.\n",
    "\n",
    "Hence, we can calculate the key rate for one client pair separately, and extrapolate the total rate from this. Let this key rate be $k_{bi-part}$.\n",
    "In principle, there are $\\frac{n*(n-1)}{2}$ pairs of clients, and every pair needs 2 bits per message bit, so the final bitrate would be the single-pair bitrate, divided by $n*(n-1)$. However, this is assuming that all pairs of clients run their QKD schemes successively. Instead, it might be possible for some of these to run in parallel. To determine this, we first need to discuss how one pair runs QKD."
   ]
  },
  {
   "cell_type": "markdown",
   "id": "95bb2847",
   "metadata": {},
   "source": [
    "### Single client pair QKD\n",
    "To perform QKD, the clients make use of bi-partite entanglement. More specifically, they ask the server to distribute $L$ Bell pairs $\\ket{00} + \\ket{11}$, where $L$ is referred to as the $\\text{\\emph{block size}}$. Using $L\\times h_{2}(p)$ bits of pre-shared key, they randomly select $p\\times L$ of the $L$ states to perform verification. For these rounds, they measure their qubits in the $X$ basis, and announce their measurement results. They compute the $X$-basis QBER from this as $Q_{X} = \\frac{1 -\\langle X_{A}X_{B}\\rangle}{2}$. For the key rate calculations, we can calculate the $Z$-basis error rate from the round that would be used for key generation as $Q_{Z} = \\frac{1 -\\langle Z_{A}Z_{B}\\rangle}{2}$."
   ]
  },
  {
   "cell_type": "markdown",
   "id": "429a73ab",
   "metadata": {},
   "source": []
  }
 ],
 "metadata": {
  "language_info": {
   "name": "python"
  }
 },
 "nbformat": 4,
 "nbformat_minor": 5
}
