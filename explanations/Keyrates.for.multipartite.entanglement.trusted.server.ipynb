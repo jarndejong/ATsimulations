{
 "cells": [
  {
   "cell_type": "markdown",
   "id": "d39aa6cd",
   "metadata": {},
   "source": [
    "# Protocol for multi-partite approach with a trusted server\n",
    "In the setting where the clients/Alice can trust the server, which is the most basic setting for the multi-partite case, there is no need for any verification. The protocol works as follows:\n",
    "1. The server establishes a Bell pair with every client in the network.\n",
    "2. The server performs the distribution steps, resulting in correction outcomes $m_{s_{i}}$ intended for the clients.\n",
    "3. For all $i$: client $i$ measures their qubit in the $X$ basis, recording measurement outcome $m_{i}$.\n",
    "4. For all $i$: server sends correction outcome $m_{s_{i}}$ to client $i$.\n",
    "5. For all $i$: client $i$ receives correction outcome $m_{s_{i}}$ and flips $m_{i}$ based on the necessary corrections (see notebook for GHZ distribution steps).\n",
    "6. The clients either give up a portion $p$ of their results to determine $Q_{X} = \\frac{1 - \\langle X_{\\mathcal{N}} \\rangle}{2}$, or they take it as pre-determined knowledge (in this case, $p = 0$).\n",
    "7. Alice encodes her message into the other $(1-p)\\times L$ states. She can encode a message that is maximally $(1-h_{2}\\left(Q_{X}\\right))\\times (1-p)\\times L$ bits long. This results in her codeword $c$ of length $(1-p)\\times L$.\n",
    "8. Alice encodes her codeword into her measurement outcomes $\\{m_{a}\\}_{k}$ by flipping every bit according to the relevant bit of the codeword.\n",
    "9. For all $i$: client $i$ announces its measurement outcomes $\\{m_{i}^{k}\\}_{k}$.\n",
    "10. For all $i$: compute every bit of the (faulty) codeword as $c_{k} = \\bigoplus_{i} m_{i}^{k}$.\n",
    "\n",
    "Step 2. and Step 3. can be performed simultaneously. Moreover, step 1,2,3 are repeated $L$ times, while step 4. and 5. can either be performed in unison with step 1,2,3, or can be bunched and send all later."
   ]
  },
  {
   "cell_type": "code",
   "execution_count": null,
   "id": "1bc7ed18",
   "metadata": {
    "vscode": {
     "languageId": "plaintext"
    }
   },
   "outputs": [],
   "source": []
  }
 ],
 "metadata": {
  "language_info": {
   "name": "python"
  }
 },
 "nbformat": 4,
 "nbformat_minor": 5
}
